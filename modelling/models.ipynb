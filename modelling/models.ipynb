{
 "cells": [
  {
   "cell_type": "code",
   "execution_count": 39,
   "id": "51457bf1-5b89-405d-9a54-c7969cc452b6",
   "metadata": {},
   "outputs": [],
   "source": [
    "import pandas as pd\n",
    "jet = 'FD001'\n",
    "def read_df(jet,train=False):\n",
    "    s = 'train' if train else 'test'\n",
    "    df = pd.read_csv(f'../data/processed/{s}_{jet}.csv',)\n",
    "    if 'Unnamed: 0' in df.columns:\n",
    "        df.drop(columns=['Unnamed: 0'], inplace=True)\n",
    "    df.sort_values(by=['unit_number', 'time'],inplace=True)\n",
    "    X = df.drop(columns=['fault_detected'])\n",
    "    y = df['fault_detected']\n",
    "    return X,y"
   ]
  },
  {
   "cell_type": "code",
   "execution_count": 55,
   "id": "da8787e0-895d-4ee5-8bf7-80a69ae14db8",
   "metadata": {},
   "outputs": [],
   "source": [
    "X_train,y_train = read_df(jet,True)\n",
    "X_test,y_test = read_df(jet,False)\n",
    "X_train_array = X_train.to_numpy()\n",
    "X_test_array = X_test.to_numpy()\n",
    "X_train = X_train_array.reshape(X_train_array.shape[0], 1, X_train_array.shape[1])  # Add a dimension for sequence length (set to 1 for now)\n",
    "X_test = X_test_array.reshape(X_test_array.shape[0], 1, X_test_array.shape[1])"
   ]
  },
  {
   "cell_type": "code",
   "execution_count": 59,
   "id": "3f19a307-d803-40c7-ab38-76fe67cf0bc3",
   "metadata": {},
   "outputs": [],
   "source": [
    "from tensorflow.keras.models import Sequential\n",
    "from tensorflow.keras.layers import LSTM, Dense,TimeDistributed,Flatten\n",
    "model = Sequential()\n",
    "model.add(LSTM(units=50, return_sequences=True))\n",
    "model.add(TimeDistributed(Dense(units=32, activation='relu')))  # Add a hidden layer after LSTM\n",
    "model.add(Flatten())\n",
    "model.add(Dense(units=1, activation='sigmoid'))"
   ]
  },
  {
   "cell_type": "code",
   "execution_count": 60,
   "id": "7187207b-6c54-4dce-b97e-7246cf2151a2",
   "metadata": {},
   "outputs": [],
   "source": [
    "model.compile(loss='categorical_crossentropy', optimizer='adam', metrics=['accuracy'])"
   ]
  },
  {
   "cell_type": "code",
   "execution_count": 61,
   "id": "dd6ec936-607a-45ee-91a3-58625bf0bf7c",
   "metadata": {},
   "outputs": [
    {
     "name": "stdout",
     "output_type": "stream",
     "text": [
      "Epoch 1/10\n"
     ]
    },
    {
     "name": "stderr",
     "output_type": "stream",
     "text": [
      "/home/amadej/.local/lib/python3.10/site-packages/keras/src/losses/losses.py:22: SyntaxWarning: In loss categorical_crossentropy, expected y_pred.shape to be (batch_size, num_classes) with num_classes > 1. Received: y_pred.shape=(None, 1). Consider using 'binary_crossentropy' if you only have 2 classes.\n",
      "  return self.fn(y_true, y_pred, **self._fn_kwargs)\n"
     ]
    },
    {
     "name": "stdout",
     "output_type": "stream",
     "text": [
      "\u001b[1m645/645\u001b[0m \u001b[32m━━━━━━━━━━━━━━━━━━━━\u001b[0m\u001b[37m\u001b[0m \u001b[1m5s\u001b[0m 4ms/step - accuracy: 0.3107 - loss: 0.0000e+00 - val_accuracy: 0.3012 - val_loss: 0.0000e+00\n",
      "Epoch 2/10\n",
      "\u001b[1m645/645\u001b[0m \u001b[32m━━━━━━━━━━━━━━━━━━━━\u001b[0m\u001b[37m\u001b[0m \u001b[1m2s\u001b[0m 4ms/step - accuracy: 0.3025 - loss: 0.0000e+00 - val_accuracy: 0.3012 - val_loss: 0.0000e+00\n",
      "Epoch 3/10\n",
      "\u001b[1m645/645\u001b[0m \u001b[32m━━━━━━━━━━━━━━━━━━━━\u001b[0m\u001b[37m\u001b[0m \u001b[1m2s\u001b[0m 3ms/step - accuracy: 0.2979 - loss: 0.0000e+00 - val_accuracy: 0.3012 - val_loss: 0.0000e+00\n",
      "Epoch 4/10\n",
      "\u001b[1m645/645\u001b[0m \u001b[32m━━━━━━━━━━━━━━━━━━━━\u001b[0m\u001b[37m\u001b[0m \u001b[1m2s\u001b[0m 3ms/step - accuracy: 0.3020 - loss: 0.0000e+00 - val_accuracy: 0.3012 - val_loss: 0.0000e+00\n",
      "Epoch 5/10\n",
      "\u001b[1m645/645\u001b[0m \u001b[32m━━━━━━━━━━━━━━━━━━━━\u001b[0m\u001b[37m\u001b[0m \u001b[1m2s\u001b[0m 3ms/step - accuracy: 0.3071 - loss: 0.0000e+00 - val_accuracy: 0.3012 - val_loss: 0.0000e+00\n",
      "Epoch 6/10\n",
      "\u001b[1m645/645\u001b[0m \u001b[32m━━━━━━━━━━━━━━━━━━━━\u001b[0m\u001b[37m\u001b[0m \u001b[1m2s\u001b[0m 3ms/step - accuracy: 0.2975 - loss: 0.0000e+00 - val_accuracy: 0.3012 - val_loss: 0.0000e+00\n",
      "Epoch 7/10\n",
      "\u001b[1m645/645\u001b[0m \u001b[32m━━━━━━━━━━━━━━━━━━━━\u001b[0m\u001b[37m\u001b[0m \u001b[1m2s\u001b[0m 3ms/step - accuracy: 0.3043 - loss: 0.0000e+00 - val_accuracy: 0.3012 - val_loss: 0.0000e+00\n",
      "Epoch 8/10\n",
      "\u001b[1m645/645\u001b[0m \u001b[32m━━━━━━━━━━━━━━━━━━━━\u001b[0m\u001b[37m\u001b[0m \u001b[1m2s\u001b[0m 3ms/step - accuracy: 0.3029 - loss: 0.0000e+00 - val_accuracy: 0.3012 - val_loss: 0.0000e+00\n",
      "Epoch 9/10\n",
      "\u001b[1m645/645\u001b[0m \u001b[32m━━━━━━━━━━━━━━━━━━━━\u001b[0m\u001b[37m\u001b[0m \u001b[1m2s\u001b[0m 3ms/step - accuracy: 0.2974 - loss: 0.0000e+00 - val_accuracy: 0.3012 - val_loss: 0.0000e+00\n",
      "Epoch 10/10\n",
      "\u001b[1m645/645\u001b[0m \u001b[32m━━━━━━━━━━━━━━━━━━━━\u001b[0m\u001b[37m\u001b[0m \u001b[1m2s\u001b[0m 3ms/step - accuracy: 0.3026 - loss: 0.0000e+00 - val_accuracy: 0.3012 - val_loss: 0.0000e+00\n",
      "\u001b[1m410/410\u001b[0m \u001b[32m━━━━━━━━━━━━━━━━━━━━\u001b[0m\u001b[37m\u001b[0m \u001b[1m1s\u001b[0m 1ms/step - accuracy: 0.3077 - loss: 0.0000e+00\n",
      "Test Loss: 0.0 Test Accuracy: 0.301237016916275\n"
     ]
    }
   ],
   "source": [
    "model.fit(X_train, y_train, epochs=10, batch_size=32, validation_data=(X_test, y_test))\n",
    "loss, accuracy = model.evaluate(X_test, y_test)\n",
    "print(\"Test Loss:\", loss, \"Test Accuracy:\", accuracy)"
   ]
  },
  {
   "cell_type": "code",
   "execution_count": null,
   "id": "486b0494-5139-4321-a05b-b0c93edf8119",
   "metadata": {},
   "outputs": [],
   "source": []
  }
 ],
 "metadata": {
  "kernelspec": {
   "display_name": "Python 3 (ipykernel)",
   "language": "python",
   "name": "python3"
  },
  "language_info": {
   "codemirror_mode": {
    "name": "ipython",
    "version": 3
   },
   "file_extension": ".py",
   "mimetype": "text/x-python",
   "name": "python",
   "nbconvert_exporter": "python",
   "pygments_lexer": "ipython3",
   "version": "3.10.12"
  }
 },
 "nbformat": 4,
 "nbformat_minor": 5
}
